{
  "nbformat": 4,
  "nbformat_minor": 0,
  "metadata": {
    "colab": {
      "provenance": [],
      "toc_visible": true,
      "authorship_tag": "ABX9TyMepbRk/XaDJcL00nlQ/EEd",
      "include_colab_link": true
    },
    "kernelspec": {
      "name": "python3",
      "display_name": "Python 3"
    },
    "language_info": {
      "name": "python"
    }
  },
  "cells": [
    {
      "cell_type": "markdown",
      "metadata": {
        "id": "view-in-github",
        "colab_type": "text"
      },
      "source": [
        "<a href=\"https://colab.research.google.com/github/D1nuh/Python/blob/ideias/Formata%C3%A7%C3%B5esDeTextoPython.ipynb\" target=\"_parent\"><img src=\"https://colab.research.google.com/assets/colab-badge.svg\" alt=\"Open In Colab\"/></a>"
      ]
    },
    {
      "cell_type": "markdown",
      "source": [
        "#Formatações de texto"
      ],
      "metadata": {
        "id": "udKvyS7S6-Ix"
      }
    },
    {
      "cell_type": "code",
      "execution_count": 11,
      "metadata": {
        "colab": {
          "base_uri": "https://localhost:8080/"
        },
        "id": "exXqvMIE1eo-",
        "outputId": "00436740-fe54-452d-8acf-8f1f5d8fd5ed"
      },
      "outputs": [
        {
          "output_type": "stream",
          "name": "stdout",
          "text": [
            "Ola! Qual o seu nome? luiz\n",
            "Ola, luiz!\n"
          ]
        }
      ],
      "source": [
        "#essa é a primeira forma de formatação mo python, e minha fav por ser bem organizada\n",
        "name = input('Ola! Qual o seu nome? ')\n",
        "print(f'Ola, {name}!')"
      ]
    },
    {
      "cell_type": "code",
      "source": [
        "#essa e um outro exemplo, essa ate é mediana pois ainda da para ler sem dificuldade\n",
        "name = input('Ola! Qual o seu nome? ')\n",
        "print('Ola, {}!'.format(name))"
      ],
      "metadata": {
        "colab": {
          "base_uri": "https://localhost:8080/"
        },
        "id": "N1TJR5kW6Oav",
        "outputId": "8bafee51-afd1-48d0-b3be-9d0da07de21d"
      },
      "execution_count": 12,
      "outputs": [
        {
          "output_type": "stream",
          "name": "stdout",
          "text": [
            "Ola! Qual o seu nome? luiz\n",
            "Ola, luiz!\n"
          ]
        }
      ]
    },
    {
      "cell_type": "code",
      "source": [
        "#essa é a ultima que sei, simplesmente intancavel, podendo usar as mais faceis.\n",
        "name = input('Ola! Qual o seu nome? ')\n",
        "print('Ola, %s!' % name)"
      ],
      "metadata": {
        "colab": {
          "base_uri": "https://localhost:8080/"
        },
        "id": "hKTFkkO86jMF",
        "outputId": "9e46eedf-0d15-417e-e196-816b3f066227"
      },
      "execution_count": 14,
      "outputs": [
        {
          "output_type": "stream",
          "name": "stdout",
          "text": [
            "Ola! Qual o seu nome? luiz\n",
            "Ola, luiz!\n"
          ]
        }
      ]
    }
  ]
}